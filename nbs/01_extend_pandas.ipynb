{
 "cells": [
  {
   "cell_type": "code",
   "execution_count": null,
   "id": "guilty-constitutional",
   "metadata": {},
   "outputs": [],
   "source": [
    "#default_exp extend_pandas"
   ]
  },
  {
   "cell_type": "markdown",
   "id": "offshore-samoa",
   "metadata": {},
   "source": [
    "# Extend pandas \n",
    "This is a collections of functions to add some additional functionality to pandas"
   ]
  },
  {
   "cell_type": "code",
   "execution_count": null,
   "id": "appreciated-release",
   "metadata": {},
   "outputs": [],
   "source": [
    "#export\n",
    "import pandas as pd\n",
    "import pyodbc\n",
    "import numpy as np\n",
    "import os\n",
    "import psutil\n",
    "import gc"
   ]
  },
  {
   "cell_type": "code",
   "execution_count": null,
   "id": "informed-special",
   "metadata": {},
   "outputs": [],
   "source": [
    "#export\n",
    "def display_all(df):\n",
    "    with pd.option_context(\"display.max_rows\", 1000, \"display.max_columns\", 1000): \n",
    "        display(df)"
   ]
  },
  {
   "cell_type": "code",
   "execution_count": null,
   "id": "passing-booth",
   "metadata": {},
   "outputs": [],
   "source": [
    "#export\n",
    "def evaluate_join(df1, df2, left_on, right_on, output=False):\n",
    "    print('DF1: ', df1.shape)\n",
    "    print('DF2: ', df2.shape)\n",
    "    df1 = df1[left_on]\n",
    "    is_pkey1 = df1.shape == df1.drop_duplicates().shape\n",
    "    print('DF1 is joining on primary key: ', is_pkey1)\n",
    "    df2 = df2[right_on]\n",
    "    is_pkey2 = df2.shape == df2.drop_duplicates().shape\n",
    "    print('DF2 is joining on primary key: ', is_pkey2)\n",
    "    dfjoin = df1.merge(df2, how='outer', left_on = left_on, right_on = right_on, indicator = True)\n",
    "    \n",
    "    both = dfjoin.loc[dfjoin['_merge'] == 'both'].shape[0]\n",
    "    left = dfjoin.loc[dfjoin['_merge'] == 'left_only'].shape[0]\n",
    "    left_both = dfjoin.loc[(dfjoin['_merge'] == 'left_only') | (dfjoin['_merge'] == 'both')].shape[0]\n",
    "    right = dfjoin.loc[dfjoin['_merge'] == 'right_only'].shape[0]\n",
    "    full = dfjoin.shape[0]\n",
    "    print('\\n')\n",
    "    print('Join Type:\\t\\t      Rows \\t %')\n",
    "    print('Both \\t\\t\\t {0:10d} \\t ({1:2.5%})'.format(both, both/full) )\n",
    "    print('Left \\t\\t\\t {0:10d} \\t ({1:2.5%})'.format(left, left/full) )\n",
    "    print('Left + Both \\t\\t {0:10d} \\t ({1:2.5%})'.format(left_both, left_both/full) )\n",
    "    print('Right \\t\\t\\t {0:10d} \\t ({1:2.5%})'.format(right, right/full) )\n",
    "    print('Left + Both + Right \\t {0:10d} \\t ({1:2.0%})'.format(full, full/full) )\n",
    "    if output:\n",
    "        return dfjoin"
   ]
  },
  {
   "cell_type": "code",
   "execution_count": null,
   "id": "sunrise-coordination",
   "metadata": {},
   "outputs": [],
   "source": [
    "#export\n",
    "def mem_usage(pandas_obj):\n",
    "    if isinstance(pandas_obj,pd.DataFrame):\n",
    "        usage_b = pandas_obj.memory_usage(deep=True).sum()\n",
    "    else: # we assume if not a df it's a series\n",
    "        usage_b = pandas_obj.memory_usage(deep=True)\n",
    "    usage_mb = usage_b / 1024 ** 2 # convert bytes to megabytes\n",
    "    return \"{:03.2f} MB\".format(usage_mb)"
   ]
  },
  {
   "cell_type": "code",
   "execution_count": null,
   "id": "stainless-kidney",
   "metadata": {},
   "outputs": [],
   "source": [
    "#export\n",
    "def optimize_dataframe_memory_usage(df):\n",
    "\n",
    "    print('Original DataFrame MemoryUsage: ' + mem_usage(df))\n",
    "    \n",
    "    # Create copy for temp usage\n",
    "    optimized_df = df.copy()\n",
    "    \n",
    "    # Downcast all int types\n",
    "    df_int = optimized_df.select_dtypes(include=['int', 'int64'])\n",
    "    converted_int = df_int.apply(pd.to_numeric,downcast='unsigned')\n",
    "    \n",
    "    # Downcast all float type\n",
    "    df_float = optimized_df.select_dtypes(include=['float', 'float64'])\n",
    "    converted_float = df_float.apply(pd.to_numeric,downcast='float')\n",
    "    \n",
    "    optimized_df[converted_int.columns] = converted_int\n",
    "    optimized_df[converted_float.columns] = converted_float\n",
    "    \n",
    "    # Select all object column types\n",
    "    df_obj = optimized_df.select_dtypes(include=['object'])\n",
    "\n",
    "    # Convert object type to category type if unique values < 0.5 to converted_obj\n",
    "    for col in df_obj.columns:\n",
    "        num_unique_values = len(df_obj[col].unique())\n",
    "        num_total_values = len(df_obj[col])\n",
    "        if num_unique_values / num_total_values < 0.5:\n",
    "            optimized_df[col] = df_obj[col].astype('category')\n",
    "        else:\n",
    "            optimized_df[col] = df_obj[col]\n",
    "\n",
    "    del df_int, converted_int, df_float, converted_float, df_obj, df\n",
    "    gc.collect()\n",
    "    df_int = pd.DataFrame()\n",
    "    converted_int = pd.DataFrame()\n",
    "    df_float = pd.DataFrame()\n",
    "    converted_float = pd.DataFrame()\n",
    "    df_obj = pd.DataFrame()\n",
    "    df = pd.DataFrame()\n",
    "    \n",
    "    print('Optimized DataFrame MemoryUsage: '+ mem_usage(optimized_df))\n",
    "    \n",
    "    return optimized_df    "
   ]
  },
  {
   "cell_type": "code",
   "execution_count": null,
   "id": "sorted-ordinary",
   "metadata": {},
   "outputs": [],
   "source": [
    "#export\n",
    "def zero_pad(number, width):\n",
    "    return str(number).zfill(width)    "
   ]
  },
  {
   "cell_type": "code",
   "execution_count": null,
   "id": "exotic-nancy",
   "metadata": {},
   "outputs": [
    {
     "data": {
      "text/html": [
       "<div>\n",
       "<style scoped>\n",
       "    .dataframe tbody tr th:only-of-type {\n",
       "        vertical-align: middle;\n",
       "    }\n",
       "\n",
       "    .dataframe tbody tr th {\n",
       "        vertical-align: top;\n",
       "    }\n",
       "\n",
       "    .dataframe thead th {\n",
       "        text-align: right;\n",
       "    }\n",
       "</style>\n",
       "<table border=\"1\" class=\"dataframe\">\n",
       "  <thead>\n",
       "    <tr style=\"text-align: right;\">\n",
       "      <th></th>\n",
       "      <th>num</th>\n",
       "    </tr>\n",
       "  </thead>\n",
       "  <tbody>\n",
       "    <tr>\n",
       "      <th>0</th>\n",
       "      <td>5</td>\n",
       "    </tr>\n",
       "  </tbody>\n",
       "</table>\n",
       "</div>"
      ],
      "text/plain": [
       "   num\n",
       "0    5"
      ]
     },
     "execution_count": null,
     "metadata": {},
     "output_type": "execute_result"
    }
   ],
   "source": [
    "df = pd.DataFrame({'num':[5]})\n",
    "df"
   ]
  },
  {
   "cell_type": "code",
   "execution_count": null,
   "id": "devoted-fifth",
   "metadata": {},
   "outputs": [
    {
     "data": {
      "text/html": [
       "<div>\n",
       "<style scoped>\n",
       "    .dataframe tbody tr th:only-of-type {\n",
       "        vertical-align: middle;\n",
       "    }\n",
       "\n",
       "    .dataframe tbody tr th {\n",
       "        vertical-align: top;\n",
       "    }\n",
       "\n",
       "    .dataframe thead th {\n",
       "        text-align: right;\n",
       "    }\n",
       "</style>\n",
       "<table border=\"1\" class=\"dataframe\">\n",
       "  <thead>\n",
       "    <tr style=\"text-align: right;\">\n",
       "      <th></th>\n",
       "      <th>num</th>\n",
       "      <th>num_as_str_padded</th>\n",
       "    </tr>\n",
       "  </thead>\n",
       "  <tbody>\n",
       "    <tr>\n",
       "      <th>0</th>\n",
       "      <td>5</td>\n",
       "      <td>05</td>\n",
       "    </tr>\n",
       "  </tbody>\n",
       "</table>\n",
       "</div>"
      ],
      "text/plain": [
       "   num num_as_str_padded\n",
       "0    5                05"
      ]
     },
     "execution_count": null,
     "metadata": {},
     "output_type": "execute_result"
    }
   ],
   "source": [
    "df['num_as_str_padded'] = df['num'].apply(lambda x : zero_pad(x,2))\n",
    "df"
   ]
  },
  {
   "cell_type": "code",
   "execution_count": null,
   "id": "adult-cabin",
   "metadata": {},
   "outputs": [],
   "source": []
  }
 ],
 "metadata": {
  "kernelspec": {
   "display_name": "Python 3",
   "language": "python",
   "name": "python3"
  }
 },
 "nbformat": 4,
 "nbformat_minor": 5
}
